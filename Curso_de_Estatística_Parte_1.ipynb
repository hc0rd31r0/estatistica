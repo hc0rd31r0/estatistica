{
  "nbformat": 4,
  "nbformat_minor": 0,
  "metadata": {
    "colab": {
      "name": "Curso_de_Estatística_Parte_1.ipynb",
      "provenance": [],
      "collapsed_sections": [],
      "toc_visible": true,
      "include_colab_link": true
    },
    "kernelspec": {
      "display_name": "Python 3",
      "language": "python",
      "name": "python3"
    },
    "language_info": {
      "codemirror_mode": {
        "name": "ipython",
        "version": 3
      },
      "file_extension": ".py",
      "mimetype": "text/x-python",
      "name": "python",
      "nbconvert_exporter": "python",
      "pygments_lexer": "ipython3",
      "version": "3.6.5"
    }
  },
  "cells": [
    {
      "cell_type": "markdown",
      "metadata": {
        "id": "view-in-github",
        "colab_type": "text"
      },
      "source": [
        "<a href=\"https://colab.research.google.com/github/hc0rd31r0/estatistica/blob/main/Curso_de_Estat%C3%ADstica_Parte_1.ipynb\" target=\"_parent\"><img src=\"https://colab.research.google.com/assets/colab-badge.svg\" alt=\"Open In Colab\"/></a>"
      ]
    },
    {
      "cell_type": "markdown",
      "metadata": {
        "id": "WvMflodMjQKe"
      },
      "source": [
        "***\n",
        "# <font color=green size=10>CURSO DE ESTATÍSTICA - PARTE 1</font>\n",
        "***"
      ]
    },
    {
      "cell_type": "markdown",
      "metadata": {
        "id": "cVgsZ_E3jQKg"
      },
      "source": [
        "# <font color=green>1 CONHECENDO OS DADOS</font>\n",
        "***"
      ]
    },
    {
      "cell_type": "markdown",
      "metadata": {
        "id": "TDjqYYNojQKh"
      },
      "source": [
        "## <font color=green>1.1 Dataset do projeto</font>\n",
        "***"
      ]
    },
    {
      "cell_type": "markdown",
      "metadata": {
        "id": "iN1gIbaKjQKh"
      },
      "source": [
        "### Pesquisa Nacional por Amostra de Domicílios - 2015\n",
        "\n",
        "A <b>Pesquisa Nacional por Amostra de Domicílios - PNAD</b> investiga anualmente, de forma permanente, características gerais da população, de educação, trabalho, rendimento e habitação e outras, com periodicidade variável, de acordo com as necessidades de informação para o país, como as características sobre migração, fecundidade, nupcialidade, saúde, segurança alimentar, entre outros temas. O levantamento dessas estatísticas constitui, ao longo dos 49 anos de realização da pesquisa, um importante instrumento para formulação, validação e avaliação de políticas orientadas para o desenvolvimento socioeconômico e a melhoria das condições de vida no Brasil."
      ]
    },
    {
      "cell_type": "markdown",
      "metadata": {
        "id": "U6V7br1RjQKi"
      },
      "source": [
        "### Fonte dos Dados\n",
        "\n",
        "https://ww2.ibge.gov.br/home/estatistica/populacao/trabalhoerendimento/pnad2015/microdados.shtm  (com problema)\n",
        "\n",
        "https://www.ibge.gov.br/estatisticas/sociais/rendimento-despesa-e-consumo/9127-pesquisa-nacional-por-amostra-de-domicilios.html?=&t=microdados\n"
      ]
    },
    {
      "cell_type": "markdown",
      "metadata": {
        "id": "r0Fe_qnzjQKj"
      },
      "source": [
        "### Variáveis utilizadas\n",
        "\n",
        "> ### Renda\n",
        "> ***\n",
        "\n",
        "Rendimento mensal do trabalho principal para pessoas de 10 anos ou mais de idade.\n",
        "\n",
        "> ### Idade\n",
        "> ***\n",
        "\n",
        "Idade do morador na data de referência em anos.\n",
        "\n",
        "> ### Altura (elaboração própria)\n",
        "> ***\n",
        "\n",
        "Altura do morador em metros.\n",
        "\n",
        "> ### UF\n",
        "> ***\n",
        "\n",
        "|Código|Descrição|\n",
        "|---|---|\n",
        "|11|Rondônia|\n",
        "|12|Acre|\n",
        "|13|Amazonas|\n",
        "|14|Roraima|\n",
        "|15|Pará|\n",
        "|16|Amapá|\n",
        "|17|Tocantins|\n",
        "|21|Maranhão|\n",
        "|22|Piauí|\n",
        "|23|Ceará|\n",
        "|24|Rio Grande do Norte|\n",
        "|25|Paraíba|\n",
        "|26|Pernambuco|\n",
        "|27|Alagoas|\n",
        "|28|Sergipe|\n",
        "|29|Bahia|\n",
        "|31|Minas Gerais|\n",
        "|32|Espírito Santo|\n",
        "|33|Rio de Janeiro|\n",
        "|35|São Paulo|\n",
        "|41|Paraná|\n",
        "|42|Santa Catarina|\n",
        "|43|Rio Grande do Sul|\n",
        "|50|Mato Grosso do Sul|\n",
        "|51|Mato Grosso|\n",
        "|52|Goiás|\n",
        "|53|Distrito Federal|\n",
        "\n",
        "> ### Sexo\t\n",
        "> ***\n",
        "\n",
        "|Código|Descrição|\n",
        "|---|---|\n",
        "|0|Masculino|\n",
        "|1|Feminino|\n",
        "\n",
        "> ### Anos de Estudo\n",
        "> ***\n",
        "\n",
        "|Código|Descrição|\n",
        "|---|---|\n",
        "|1|Sem instrução e menos de 1 ano|\n",
        "|2|1 ano|\n",
        "|3|2 anos|\n",
        "|4|3 anos|\n",
        "|5|4 anos|\n",
        "|6|5 anos|\n",
        "|7|6 anos|\n",
        "|8|7 anos|\n",
        "|9|8 anos|\n",
        "|10|9 anos|\n",
        "|11|10 anos|\n",
        "|12|11 anos|\n",
        "|13|12 anos|\n",
        "|14|13 anos|\n",
        "|15|14 anos|\n",
        "|16|15 anos ou mais|\n",
        "|17|Não determinados| \n",
        "||Não aplicável|\n",
        "\n",
        "> ### Cor\n",
        "> ***\n",
        "\n",
        "|Código|Descrição|\n",
        "|---|---|\n",
        "|0|Indígena|\n",
        "|2|Branca|\n",
        "|4|Preta|\n",
        "|6|Amarela|\n",
        "|8|Parda|\n",
        "|9|Sem declaração|"
      ]
    },
    {
      "cell_type": "markdown",
      "metadata": {
        "id": "OK1IQH5cX7Gb"
      },
      "source": [
        "#### <font color='red'>Observação</font>\n",
        "***\n",
        "> Os seguintes tratamentos foram realizados nos dados originais:\n",
        "> 1. Foram eliminados os registros onde a <b>Renda</b> era inválida (999 999 999 999);\n",
        "> 2. Foram eliminados os registros onde a <b>Renda</b> era missing;\n",
        "> 3. Foram considerados somente os registros das <b>Pessoas de Referência</b> de cada domicílio (responsável pelo domicílio)."
      ]
    },
    {
      "cell_type": "markdown",
      "metadata": {
        "id": "8Rw70V6ojQKk"
      },
      "source": [
        "### Importando pandas e lendo o dataset do projeto\n",
        "\n",
        "https://pandas.pydata.org/"
      ]
    },
    {
      "cell_type": "code",
      "metadata": {
        "id": "8QgOpE-wjQKl"
      },
      "source": [
        "import pandas as pd"
      ],
      "execution_count": 1,
      "outputs": []
    },
    {
      "cell_type": "code",
      "metadata": {
        "id": "ufRZ7TLwjQKo"
      },
      "source": [
        "url = 'https://github.com/hc0rd31r0/estatistica/blob/main/dados/dados.csv?raw=true'\n",
        "dados = pd.read_csv(url)"
      ],
      "execution_count": 2,
      "outputs": []
    },
    {
      "cell_type": "code",
      "metadata": {
        "colab": {
          "base_uri": "https://localhost:8080/",
          "height": 204
        },
        "id": "GsC_WhLFjQKq",
        "scrolled": true,
        "outputId": "c0033483-7c41-401d-a85f-f083312d76d6"
      },
      "source": [
        "dados.head()"
      ],
      "execution_count": 3,
      "outputs": [
        {
          "output_type": "execute_result",
          "data": {
            "text/html": [
              "<div>\n",
              "<style scoped>\n",
              "    .dataframe tbody tr th:only-of-type {\n",
              "        vertical-align: middle;\n",
              "    }\n",
              "\n",
              "    .dataframe tbody tr th {\n",
              "        vertical-align: top;\n",
              "    }\n",
              "\n",
              "    .dataframe thead th {\n",
              "        text-align: right;\n",
              "    }\n",
              "</style>\n",
              "<table border=\"1\" class=\"dataframe\">\n",
              "  <thead>\n",
              "    <tr style=\"text-align: right;\">\n",
              "      <th></th>\n",
              "      <th>UF</th>\n",
              "      <th>Sexo</th>\n",
              "      <th>Idade</th>\n",
              "      <th>Cor</th>\n",
              "      <th>Anos de Estudo</th>\n",
              "      <th>Renda</th>\n",
              "      <th>Altura</th>\n",
              "    </tr>\n",
              "  </thead>\n",
              "  <tbody>\n",
              "    <tr>\n",
              "      <th>0</th>\n",
              "      <td>11</td>\n",
              "      <td>0</td>\n",
              "      <td>23</td>\n",
              "      <td>8</td>\n",
              "      <td>12</td>\n",
              "      <td>800</td>\n",
              "      <td>1.603808</td>\n",
              "    </tr>\n",
              "    <tr>\n",
              "      <th>1</th>\n",
              "      <td>11</td>\n",
              "      <td>1</td>\n",
              "      <td>23</td>\n",
              "      <td>2</td>\n",
              "      <td>12</td>\n",
              "      <td>1150</td>\n",
              "      <td>1.739790</td>\n",
              "    </tr>\n",
              "    <tr>\n",
              "      <th>2</th>\n",
              "      <td>11</td>\n",
              "      <td>1</td>\n",
              "      <td>35</td>\n",
              "      <td>8</td>\n",
              "      <td>15</td>\n",
              "      <td>880</td>\n",
              "      <td>1.760444</td>\n",
              "    </tr>\n",
              "    <tr>\n",
              "      <th>3</th>\n",
              "      <td>11</td>\n",
              "      <td>0</td>\n",
              "      <td>46</td>\n",
              "      <td>2</td>\n",
              "      <td>6</td>\n",
              "      <td>3500</td>\n",
              "      <td>1.783158</td>\n",
              "    </tr>\n",
              "    <tr>\n",
              "      <th>4</th>\n",
              "      <td>11</td>\n",
              "      <td>1</td>\n",
              "      <td>47</td>\n",
              "      <td>8</td>\n",
              "      <td>9</td>\n",
              "      <td>150</td>\n",
              "      <td>1.690631</td>\n",
              "    </tr>\n",
              "  </tbody>\n",
              "</table>\n",
              "</div>"
            ],
            "text/plain": [
              "   UF  Sexo  Idade  Cor  Anos de Estudo  Renda    Altura\n",
              "0  11     0     23    8              12    800  1.603808\n",
              "1  11     1     23    2              12   1150  1.739790\n",
              "2  11     1     35    8              15    880  1.760444\n",
              "3  11     0     46    2               6   3500  1.783158\n",
              "4  11     1     47    8               9    150  1.690631"
            ]
          },
          "metadata": {},
          "execution_count": 3
        }
      ]
    },
    {
      "cell_type": "markdown",
      "metadata": {
        "id": "E3Mx0tVqjQKs"
      },
      "source": [
        "## <font color=green>1.2 Tipos de dados</font>\n",
        "***"
      ]
    },
    {
      "cell_type": "markdown",
      "metadata": {
        "id": "oB4TCBFojQKt"
      },
      "source": [
        "### **Variáveis qualitativas ordinais**\n",
        "\n",
        "► Variáveis que podem ser ordenadas ou hierarquizadas"
      ]
    },
    {
      "cell_type": "code",
      "metadata": {
        "colab": {
          "base_uri": "https://localhost:8080/"
        },
        "id": "NtQZNGNbjQKt",
        "outputId": "06183dab-9810-4ff5-e812-a6b4f9c6f6c0"
      },
      "source": [
        "sorted(dados['Anos de Estudo'].unique())"
      ],
      "execution_count": 4,
      "outputs": [
        {
          "output_type": "execute_result",
          "data": {
            "text/plain": [
              "[1, 2, 3, 4, 5, 6, 7, 8, 9, 10, 11, 12, 13, 14, 15, 16, 17]"
            ]
          },
          "metadata": {},
          "execution_count": 4
        }
      ]
    },
    {
      "cell_type": "markdown",
      "metadata": {
        "id": "i2mCIMyojQKv"
      },
      "source": [
        "### **Variáveis qualitativas nominais**\n",
        "\n",
        "► Variáveis que não podem ser ordenadas ou hierarquizardas"
      ]
    },
    {
      "cell_type": "code",
      "metadata": {
        "colab": {
          "base_uri": "https://localhost:8080/"
        },
        "id": "NODtY5IxjQKw",
        "scrolled": true,
        "outputId": "93c38253-4db4-4cf6-eff2-f0c342cdcaee"
      },
      "source": [
        "sorted(dados['UF'].unique())"
      ],
      "execution_count": 5,
      "outputs": [
        {
          "output_type": "execute_result",
          "data": {
            "text/plain": [
              "[11,\n",
              " 12,\n",
              " 13,\n",
              " 14,\n",
              " 15,\n",
              " 16,\n",
              " 17,\n",
              " 21,\n",
              " 22,\n",
              " 23,\n",
              " 24,\n",
              " 25,\n",
              " 26,\n",
              " 27,\n",
              " 28,\n",
              " 29,\n",
              " 31,\n",
              " 32,\n",
              " 33,\n",
              " 35,\n",
              " 41,\n",
              " 42,\n",
              " 43,\n",
              " 50,\n",
              " 51,\n",
              " 52,\n",
              " 53]"
            ]
          },
          "metadata": {},
          "execution_count": 5
        }
      ]
    },
    {
      "cell_type": "code",
      "metadata": {
        "colab": {
          "base_uri": "https://localhost:8080/"
        },
        "id": "NURfft2QjQKy",
        "outputId": "f5ef928c-f6fc-47b9-e9ba-a0d321b61d92"
      },
      "source": [
        "sorted(dados['Sexo'].unique())"
      ],
      "execution_count": 6,
      "outputs": [
        {
          "output_type": "execute_result",
          "data": {
            "text/plain": [
              "[0, 1]"
            ]
          },
          "metadata": {},
          "execution_count": 6
        }
      ]
    },
    {
      "cell_type": "code",
      "metadata": {
        "colab": {
          "base_uri": "https://localhost:8080/"
        },
        "id": "6VwGyqxMjQK1",
        "outputId": "c36950e9-e2fc-4320-813d-4db2148126f4"
      },
      "source": [
        "sorted(dados['Cor'].unique())"
      ],
      "execution_count": 7,
      "outputs": [
        {
          "output_type": "execute_result",
          "data": {
            "text/plain": [
              "[0, 2, 4, 6, 8]"
            ]
          },
          "metadata": {},
          "execution_count": 7
        }
      ]
    },
    {
      "cell_type": "markdown",
      "metadata": {
        "id": "FQhi81LsjQK5"
      },
      "source": [
        "### **Variáveis quantitativas discretas**\n",
        "\n",
        "► Variáveis que representam uma contagem onde os valores possíveis formam um conjunto finito ou enumerável."
      ]
    },
    {
      "cell_type": "code",
      "metadata": {
        "colab": {
          "base_uri": "https://localhost:8080/"
        },
        "id": "sr4JXeZkjQK5",
        "outputId": "1e4b92ea-747e-4d1f-97f4-b3251253a77b"
      },
      "source": [
        "print('De %s até %s anos' %(dados.Idade.min(), dados.Idade.max()))"
      ],
      "execution_count": 8,
      "outputs": [
        {
          "output_type": "stream",
          "text": [
            "De 13 até 99 anos\n"
          ],
          "name": "stdout"
        }
      ]
    },
    {
      "cell_type": "markdown",
      "metadata": {
        "id": "7mMXLTukjQK-"
      },
      "source": [
        "#### <font color='red'>Observação</font>\n",
        "***\n",
        "> A variável idade pode ser classificada de três formas distintas:\n",
        "> 1. <b>QUANTITATIVA DISCRETA</b> - quando representa anos completos (números inteiros);\n",
        "> 2. <b>QUANTITATIVA CONTÍNUA</b> - quando representa a idade exata, sendo representado por frações de anos; e\n",
        "> 3. <b>QUALITATIVA ORDINAL</b> - quando representa faixas de idade."
      ]
    },
    {
      "cell_type": "markdown",
      "metadata": {
        "id": "J0L2OkaQjQK7"
      },
      "source": [
        "### **Variáveis quantitativas contínuas**\n",
        "\n",
        "► Variáveis que representam uma contagem ou mensuração que assumem valores em uma escala contínua (números reais)."
      ]
    },
    {
      "cell_type": "code",
      "metadata": {
        "colab": {
          "base_uri": "https://localhost:8080/"
        },
        "id": "jOW-bGyRjQK8",
        "outputId": "6b4aedc8-ff53-416e-a297-def95560ab99"
      },
      "source": [
        "print('De %s até %s metros' %(dados.Altura.min(), dados['Altura'].max()))"
      ],
      "execution_count": 9,
      "outputs": [
        {
          "output_type": "stream",
          "text": [
            "De 1.339244614 até 2.028496765 metros\n"
          ],
          "name": "stdout"
        }
      ]
    },
    {
      "cell_type": "markdown",
      "metadata": {
        "id": "d_LW5gMIjQK_"
      },
      "source": [
        "### Classificação de uma variável\n",
        "<img src='https://caelum-online-public.s3.amazonaws.com/1177-estatistica-parte1/01/img001.png' width='70%'>"
      ]
    },
    {
      "cell_type": "markdown",
      "metadata": {
        "id": "G5HLGKIZVNga"
      },
      "source": [
        "\n",
        "---\n",
        "\n",
        "Nesta aula, aprendemos:\n",
        "\n",
        "* A identificar a versão de uma biblioteca do Python.\n",
        "* A ler um ***dataset*** no formato CSV e criar um **DataFrame** *pandas*, com o conteúdo deste dataset.\n",
        "* A identificar e classificar as variáveis de um dataset como **quantitativas** ou **qualitativas**.\n",
        "* Que as **variáveis qualitativas** se dividem em **ordinais** e **nominais**.\n",
        "* Que as **variáveis quantitativas** se dividem em **discretas** e **contínuas**.\n",
        "\n",
        "\n",
        "---\n",
        "\n"
      ]
    },
    {
      "cell_type": "markdown",
      "metadata": {
        "id": "PNIg_4VEjQK_"
      },
      "source": [
        "# <font color=green>2 DISTRIBUIÇÃO DE FREQUÊNCIAS</font>\n",
        "***\n",
        "\n",
        "O primeiro passo em um trabalho de análise é o conhecimento do comportamento das variáveis envolvidas no estudo. Utilizando técnicas estatísticas como as análises das <b>DISTRIBUIÇÕES DE FREQUÊNCIAS</b> e <b>HISTOGRAMAS</b> podemos avaliar melhor a forma como os fenômenos em estudo se distribuem."
      ]
    },
    {
      "cell_type": "markdown",
      "metadata": {
        "id": "JhpyjkEFjQLA"
      },
      "source": [
        "## <font color=green>2.1 Distribuição de frequências para variáveis qualitativas</font>\n",
        "***"
      ]
    },
    {
      "cell_type": "markdown",
      "metadata": {
        "id": "SsN3ikjqjQLB"
      },
      "source": [
        "### Método 1"
      ]
    },
    {
      "cell_type": "markdown",
      "metadata": {
        "id": "dj_v0M44X7G3"
      },
      "source": [
        "https://pandas.pydata.org/pandas-docs/version/0.22/generated/pandas.Series.value_counts.html"
      ]
    },
    {
      "cell_type": "code",
      "metadata": {
        "id": "cA4gUboZjQLB",
        "colab": {
          "base_uri": "https://localhost:8080/"
        },
        "outputId": "db0b6fdb-f288-41bc-8701-9ea619fe49b4"
      },
      "source": [
        "dados['Sexo'].value_counts()"
      ],
      "execution_count": 10,
      "outputs": [
        {
          "output_type": "execute_result",
          "data": {
            "text/plain": [
              "0    53250\n",
              "1    23590\n",
              "Name: Sexo, dtype: int64"
            ]
          },
          "metadata": {},
          "execution_count": 10
        }
      ]
    },
    {
      "cell_type": "code",
      "metadata": {
        "id": "iy4-ijknjQLD",
        "colab": {
          "base_uri": "https://localhost:8080/"
        },
        "outputId": "d65c1be8-2ea9-41ff-aa4f-566060d66c2b"
      },
      "source": [
        "dados['Sexo'].value_counts(normalize=True) * 100"
      ],
      "execution_count": 11,
      "outputs": [
        {
          "output_type": "execute_result",
          "data": {
            "text/plain": [
              "0    69.299844\n",
              "1    30.700156\n",
              "Name: Sexo, dtype: float64"
            ]
          },
          "metadata": {},
          "execution_count": 11
        }
      ]
    },
    {
      "cell_type": "code",
      "metadata": {
        "id": "qfkiLcFijQLG"
      },
      "source": [
        "frequencia = dados['Sexo'].value_counts()"
      ],
      "execution_count": 12,
      "outputs": []
    },
    {
      "cell_type": "code",
      "metadata": {
        "id": "t4uFMt6fjQLI"
      },
      "source": [
        "percentual = dados['Sexo'].value_counts(normalize=True) * 100"
      ],
      "execution_count": 13,
      "outputs": []
    },
    {
      "cell_type": "code",
      "metadata": {
        "id": "zUGfju86jQLM"
      },
      "source": [
        "dist_freq_qualitativas = pd.DataFrame({'Frequência': frequencia, 'Porcentagem (%)': percentual})"
      ],
      "execution_count": 14,
      "outputs": []
    },
    {
      "cell_type": "code",
      "metadata": {
        "id": "kPOYfijijQLO",
        "colab": {
          "base_uri": "https://localhost:8080/",
          "height": 111
        },
        "outputId": "f8565d20-2005-4870-930c-2c0480401ad1"
      },
      "source": [
        "dist_freq_qualitativas"
      ],
      "execution_count": 15,
      "outputs": [
        {
          "output_type": "execute_result",
          "data": {
            "text/html": [
              "<div>\n",
              "<style scoped>\n",
              "    .dataframe tbody tr th:only-of-type {\n",
              "        vertical-align: middle;\n",
              "    }\n",
              "\n",
              "    .dataframe tbody tr th {\n",
              "        vertical-align: top;\n",
              "    }\n",
              "\n",
              "    .dataframe thead th {\n",
              "        text-align: right;\n",
              "    }\n",
              "</style>\n",
              "<table border=\"1\" class=\"dataframe\">\n",
              "  <thead>\n",
              "    <tr style=\"text-align: right;\">\n",
              "      <th></th>\n",
              "      <th>Frequência</th>\n",
              "      <th>Porcentagem (%)</th>\n",
              "    </tr>\n",
              "  </thead>\n",
              "  <tbody>\n",
              "    <tr>\n",
              "      <th>0</th>\n",
              "      <td>53250</td>\n",
              "      <td>69.299844</td>\n",
              "    </tr>\n",
              "    <tr>\n",
              "      <th>1</th>\n",
              "      <td>23590</td>\n",
              "      <td>30.700156</td>\n",
              "    </tr>\n",
              "  </tbody>\n",
              "</table>\n",
              "</div>"
            ],
            "text/plain": [
              "   Frequência  Porcentagem (%)\n",
              "0       53250        69.299844\n",
              "1       23590        30.700156"
            ]
          },
          "metadata": {},
          "execution_count": 15
        }
      ]
    },
    {
      "cell_type": "code",
      "metadata": {
        "id": "tMS-VSk3jQLQ"
      },
      "source": [
        "dist_freq_qualitativas.rename(index= {0: 'Masculino', 1: 'Feminino' }, inplace = True)\n",
        "dist_freq_qualitativas.rename_axis('Sexo', axis='columns', inplace=True)"
      ],
      "execution_count": 16,
      "outputs": []
    },
    {
      "cell_type": "code",
      "metadata": {
        "id": "B9zkYdcCyHe6",
        "colab": {
          "base_uri": "https://localhost:8080/",
          "height": 111
        },
        "outputId": "9a31d5a5-28ac-44e8-d4fa-377e1f0e853a"
      },
      "source": [
        "dist_freq_qualitativas"
      ],
      "execution_count": 17,
      "outputs": [
        {
          "output_type": "execute_result",
          "data": {
            "text/html": [
              "<div>\n",
              "<style scoped>\n",
              "    .dataframe tbody tr th:only-of-type {\n",
              "        vertical-align: middle;\n",
              "    }\n",
              "\n",
              "    .dataframe tbody tr th {\n",
              "        vertical-align: top;\n",
              "    }\n",
              "\n",
              "    .dataframe thead th {\n",
              "        text-align: right;\n",
              "    }\n",
              "</style>\n",
              "<table border=\"1\" class=\"dataframe\">\n",
              "  <thead>\n",
              "    <tr style=\"text-align: right;\">\n",
              "      <th>Sexo</th>\n",
              "      <th>Frequência</th>\n",
              "      <th>Porcentagem (%)</th>\n",
              "    </tr>\n",
              "  </thead>\n",
              "  <tbody>\n",
              "    <tr>\n",
              "      <th>Masculino</th>\n",
              "      <td>53250</td>\n",
              "      <td>69.299844</td>\n",
              "    </tr>\n",
              "    <tr>\n",
              "      <th>Feminino</th>\n",
              "      <td>23590</td>\n",
              "      <td>30.700156</td>\n",
              "    </tr>\n",
              "  </tbody>\n",
              "</table>\n",
              "</div>"
            ],
            "text/plain": [
              "Sexo       Frequência  Porcentagem (%)\n",
              "Masculino       53250        69.299844\n",
              "Feminino        23590        30.700156"
            ]
          },
          "metadata": {},
          "execution_count": 17
        }
      ]
    },
    {
      "cell_type": "markdown",
      "metadata": {
        "id": "D82ocp_djQLR"
      },
      "source": [
        "### Método 2"
      ]
    },
    {
      "cell_type": "markdown",
      "metadata": {
        "id": "rLbfeA_UX7HF"
      },
      "source": [
        "https://pandas.pydata.org/pandas-docs/version/0.22/generated/pandas.crosstab.html"
      ]
    },
    {
      "cell_type": "code",
      "metadata": {
        "id": "d8XMZiEfjQLS"
      },
      "source": [
        "sexo = {0: 'Masculino',\n",
        "        1: 'Feminino'}\n",
        "\n",
        "cor = {0: 'Indígena',\n",
        "        2: 'Branca',\n",
        "        4: 'Preta',\n",
        "        6: 'Amarela',\n",
        "        8: 'Parda',\n",
        "        9: 'Sem declaração'}"
      ],
      "execution_count": 18,
      "outputs": []
    },
    {
      "cell_type": "code",
      "metadata": {
        "id": "YLCyOKYcjQLU",
        "colab": {
          "base_uri": "https://localhost:8080/",
          "height": 142
        },
        "outputId": "9e19c253-e1ad-465e-b6a8-3e118a8754ca"
      },
      "source": [
        "frequencia = pd.crosstab(dados.Sexo, \n",
        "                         dados.Cor)\n",
        "frequencia.rename(index= sexo, inplace = True)\n",
        "frequencia.rename(columns=cor, inplace=True)\n",
        "frequencia"
      ],
      "execution_count": 19,
      "outputs": [
        {
          "output_type": "execute_result",
          "data": {
            "text/html": [
              "<div>\n",
              "<style scoped>\n",
              "    .dataframe tbody tr th:only-of-type {\n",
              "        vertical-align: middle;\n",
              "    }\n",
              "\n",
              "    .dataframe tbody tr th {\n",
              "        vertical-align: top;\n",
              "    }\n",
              "\n",
              "    .dataframe thead th {\n",
              "        text-align: right;\n",
              "    }\n",
              "</style>\n",
              "<table border=\"1\" class=\"dataframe\">\n",
              "  <thead>\n",
              "    <tr style=\"text-align: right;\">\n",
              "      <th>Cor</th>\n",
              "      <th>Indígena</th>\n",
              "      <th>Branca</th>\n",
              "      <th>Preta</th>\n",
              "      <th>Amarela</th>\n",
              "      <th>Parda</th>\n",
              "    </tr>\n",
              "    <tr>\n",
              "      <th>Sexo</th>\n",
              "      <th></th>\n",
              "      <th></th>\n",
              "      <th></th>\n",
              "      <th></th>\n",
              "      <th></th>\n",
              "    </tr>\n",
              "  </thead>\n",
              "  <tbody>\n",
              "    <tr>\n",
              "      <th>Masculino</th>\n",
              "      <td>256</td>\n",
              "      <td>22194</td>\n",
              "      <td>5502</td>\n",
              "      <td>235</td>\n",
              "      <td>25063</td>\n",
              "    </tr>\n",
              "    <tr>\n",
              "      <th>Feminino</th>\n",
              "      <td>101</td>\n",
              "      <td>9621</td>\n",
              "      <td>2889</td>\n",
              "      <td>117</td>\n",
              "      <td>10862</td>\n",
              "    </tr>\n",
              "  </tbody>\n",
              "</table>\n",
              "</div>"
            ],
            "text/plain": [
              "Cor        Indígena  Branca  Preta  Amarela  Parda\n",
              "Sexo                                              \n",
              "Masculino       256   22194   5502      235  25063\n",
              "Feminino        101    9621   2889      117  10862"
            ]
          },
          "metadata": {},
          "execution_count": 19
        }
      ]
    },
    {
      "cell_type": "code",
      "metadata": {
        "id": "nrDtcf5gjQLV",
        "colab": {
          "base_uri": "https://localhost:8080/",
          "height": 142
        },
        "outputId": "8c65a625-2179-48a0-ca8e-b18410c8b34e"
      },
      "source": [
        "percentual = pd.crosstab(dados.Sexo, \n",
        "                         dados.Cor,\n",
        "                         normalize=True) * 100\n",
        "percentual.rename(index= sexo, inplace = True)\n",
        "percentual.rename(columns=cor, inplace=True)\n",
        "percentual"
      ],
      "execution_count": 20,
      "outputs": [
        {
          "output_type": "execute_result",
          "data": {
            "text/html": [
              "<div>\n",
              "<style scoped>\n",
              "    .dataframe tbody tr th:only-of-type {\n",
              "        vertical-align: middle;\n",
              "    }\n",
              "\n",
              "    .dataframe tbody tr th {\n",
              "        vertical-align: top;\n",
              "    }\n",
              "\n",
              "    .dataframe thead th {\n",
              "        text-align: right;\n",
              "    }\n",
              "</style>\n",
              "<table border=\"1\" class=\"dataframe\">\n",
              "  <thead>\n",
              "    <tr style=\"text-align: right;\">\n",
              "      <th>Cor</th>\n",
              "      <th>Indígena</th>\n",
              "      <th>Branca</th>\n",
              "      <th>Preta</th>\n",
              "      <th>Amarela</th>\n",
              "      <th>Parda</th>\n",
              "    </tr>\n",
              "    <tr>\n",
              "      <th>Sexo</th>\n",
              "      <th></th>\n",
              "      <th></th>\n",
              "      <th></th>\n",
              "      <th></th>\n",
              "      <th></th>\n",
              "    </tr>\n",
              "  </thead>\n",
              "  <tbody>\n",
              "    <tr>\n",
              "      <th>Masculino</th>\n",
              "      <td>0.333160</td>\n",
              "      <td>28.883394</td>\n",
              "      <td>7.160333</td>\n",
              "      <td>0.305830</td>\n",
              "      <td>32.617126</td>\n",
              "    </tr>\n",
              "    <tr>\n",
              "      <th>Feminino</th>\n",
              "      <td>0.131442</td>\n",
              "      <td>12.520822</td>\n",
              "      <td>3.759761</td>\n",
              "      <td>0.152264</td>\n",
              "      <td>14.135867</td>\n",
              "    </tr>\n",
              "  </tbody>\n",
              "</table>\n",
              "</div>"
            ],
            "text/plain": [
              "Cor        Indígena     Branca     Preta   Amarela      Parda\n",
              "Sexo                                                         \n",
              "Masculino  0.333160  28.883394  7.160333  0.305830  32.617126\n",
              "Feminino   0.131442  12.520822  3.759761  0.152264  14.135867"
            ]
          },
          "metadata": {},
          "execution_count": 20
        }
      ]
    },
    {
      "cell_type": "code",
      "metadata": {
        "id": "_MHwBGcdp6dl",
        "colab": {
          "base_uri": "https://localhost:8080/",
          "height": 142
        },
        "outputId": "6e6558f6-775f-465c-e0c6-70d3ddb982f2"
      },
      "source": [
        "percentual = pd.crosstab(dados.Sexo, \n",
        "                         dados.Cor,\n",
        "                         aggfunc= 'mean',\n",
        "                         values= dados.Renda)\n",
        "percentual.rename(index= sexo, inplace = True)\n",
        "percentual.rename(columns=cor, inplace=True)\n",
        "percentual"
      ],
      "execution_count": 21,
      "outputs": [
        {
          "output_type": "execute_result",
          "data": {
            "text/html": [
              "<div>\n",
              "<style scoped>\n",
              "    .dataframe tbody tr th:only-of-type {\n",
              "        vertical-align: middle;\n",
              "    }\n",
              "\n",
              "    .dataframe tbody tr th {\n",
              "        vertical-align: top;\n",
              "    }\n",
              "\n",
              "    .dataframe thead th {\n",
              "        text-align: right;\n",
              "    }\n",
              "</style>\n",
              "<table border=\"1\" class=\"dataframe\">\n",
              "  <thead>\n",
              "    <tr style=\"text-align: right;\">\n",
              "      <th>Cor</th>\n",
              "      <th>Indígena</th>\n",
              "      <th>Branca</th>\n",
              "      <th>Preta</th>\n",
              "      <th>Amarela</th>\n",
              "      <th>Parda</th>\n",
              "    </tr>\n",
              "    <tr>\n",
              "      <th>Sexo</th>\n",
              "      <th></th>\n",
              "      <th></th>\n",
              "      <th></th>\n",
              "      <th></th>\n",
              "      <th></th>\n",
              "    </tr>\n",
              "  </thead>\n",
              "  <tbody>\n",
              "    <tr>\n",
              "      <th>Masculino</th>\n",
              "      <td>1081.710938</td>\n",
              "      <td>2925.744435</td>\n",
              "      <td>1603.861687</td>\n",
              "      <td>4758.251064</td>\n",
              "      <td>1659.577425</td>\n",
              "    </tr>\n",
              "    <tr>\n",
              "      <th>Feminino</th>\n",
              "      <td>2464.386139</td>\n",
              "      <td>2109.866750</td>\n",
              "      <td>1134.596400</td>\n",
              "      <td>3027.341880</td>\n",
              "      <td>1176.758516</td>\n",
              "    </tr>\n",
              "  </tbody>\n",
              "</table>\n",
              "</div>"
            ],
            "text/plain": [
              "Cor           Indígena       Branca        Preta      Amarela        Parda\n",
              "Sexo                                                                      \n",
              "Masculino  1081.710938  2925.744435  1603.861687  4758.251064  1659.577425\n",
              "Feminino   2464.386139  2109.866750  1134.596400  3027.341880  1176.758516"
            ]
          },
          "metadata": {},
          "execution_count": 21
        }
      ]
    },
    {
      "cell_type": "markdown",
      "metadata": {
        "id": "eaXQUxnXjQLa"
      },
      "source": [
        "## <font color=green>2.2 Distribuição de frequências para variáveis quantitativas (classes personalizadas)</font>\n",
        "***"
      ]
    },
    {
      "cell_type": "markdown",
      "metadata": {
        "id": "wxsSD-VVjQLb"
      },
      "source": [
        "### Passo 1 - Especificar os limites de cada classe\n",
        "\n",
        "Utilizar a seguinte classificação:\n",
        "\n",
        "<b>A</b> ► Acima de 20 SM\n",
        "\n",
        "<b>B</b> ► De 10 a 20 SM\n",
        "\n",
        "<b>C</b> ► De 4 a 10 SM\n",
        "\n",
        "<b>D</b> ► De 2 a 4 SM\n",
        "\n",
        "<b>E</b> ► Até 2 SM\n",
        "\n",
        "onde <b>SM</b> é o valor do salário mínimo na época. Em nosso caso <b>R$ 788,00</b> (2015):\n",
        "\n",
        "<b>A</b> ► Acima de 15.760\n",
        "\n",
        "<b>B</b> ► De 7.880 a 15.760\n",
        "\n",
        "<b>C</b> ► De 3.152 a 7.880\n",
        "\n",
        "<b>D</b> ► De 1.576 a 3.152\n",
        "\n",
        "<b>E</b> ► Até 1.576\n"
      ]
    },
    {
      "cell_type": "code",
      "metadata": {
        "id": "Z08790GUjQLc",
        "colab": {
          "base_uri": "https://localhost:8080/"
        },
        "outputId": "7002d152-9317-48c0-e5f9-5daf76dbf394"
      },
      "source": [
        "dados.Renda.min()"
      ],
      "execution_count": 22,
      "outputs": [
        {
          "output_type": "execute_result",
          "data": {
            "text/plain": [
              "0"
            ]
          },
          "metadata": {},
          "execution_count": 22
        }
      ]
    },
    {
      "cell_type": "code",
      "metadata": {
        "id": "5q2V5-0FjQLe",
        "colab": {
          "base_uri": "https://localhost:8080/"
        },
        "outputId": "352415c7-b980-48dd-c1c9-964fc6d55b2e"
      },
      "source": [
        "dados.Renda.max()"
      ],
      "execution_count": 23,
      "outputs": [
        {
          "output_type": "execute_result",
          "data": {
            "text/plain": [
              "200000"
            ]
          },
          "metadata": {},
          "execution_count": 23
        }
      ]
    },
    {
      "cell_type": "code",
      "metadata": {
        "id": "Qt5F5w2UjQLg"
      },
      "source": [
        "classes = [0, 1576, 3152, 7880, 15760, 200000]"
      ],
      "execution_count": 24,
      "outputs": []
    },
    {
      "cell_type": "code",
      "metadata": {
        "id": "DKPIGOLLjQLi"
      },
      "source": [
        "labels = ['E', 'D', 'C', 'B', 'A']"
      ],
      "execution_count": 25,
      "outputs": []
    },
    {
      "cell_type": "markdown",
      "metadata": {
        "id": "IQhlvrQUjQLk"
      },
      "source": [
        "### Passo 2 - Criar a tabela de frequências"
      ]
    },
    {
      "cell_type": "markdown",
      "metadata": {
        "id": "Uy3fH4IxX7Hc"
      },
      "source": [
        "https://pandas.pydata.org/pandas-docs/version/0.22/generated/pandas.cut.html"
      ]
    },
    {
      "cell_type": "code",
      "metadata": {
        "id": "N-wZ_2UajQLm",
        "colab": {
          "base_uri": "https://localhost:8080/"
        },
        "outputId": "6d73fe27-789b-401d-e91b-f5cee7ea02af"
      },
      "source": [
        "frequencia = pd.value_counts(\n",
        "pd.cut(x = dados.Renda,\n",
        "       bins = classes,\n",
        "       labels = labels,\n",
        "       include_lowest = True))\n",
        "frequencia"
      ],
      "execution_count": 26,
      "outputs": [
        {
          "output_type": "execute_result",
          "data": {
            "text/plain": [
              "E    49755\n",
              "D    16700\n",
              "C     7599\n",
              "B     2178\n",
              "A      608\n",
              "Name: Renda, dtype: int64"
            ]
          },
          "metadata": {},
          "execution_count": 26
        }
      ]
    },
    {
      "cell_type": "code",
      "metadata": {
        "id": "WrZ2m2GajQLo",
        "colab": {
          "base_uri": "https://localhost:8080/"
        },
        "outputId": "54470c7a-b750-469c-a6d5-562292ec8c81"
      },
      "source": [
        "percentual = pd.value_counts(\n",
        "pd.cut(x = dados.Renda,\n",
        "       bins = classes,\n",
        "       labels = labels,\n",
        "       include_lowest = True), normalize=True) * 100\n",
        "percentual"
      ],
      "execution_count": 27,
      "outputs": [
        {
          "output_type": "execute_result",
          "data": {
            "text/plain": [
              "E    64.751432\n",
              "D    21.733472\n",
              "C     9.889381\n",
              "B     2.834461\n",
              "A     0.791255\n",
              "Name: Renda, dtype: float64"
            ]
          },
          "metadata": {},
          "execution_count": 27
        }
      ]
    },
    {
      "cell_type": "code",
      "metadata": {
        "id": "btKoxJDujQLp",
        "colab": {
          "base_uri": "https://localhost:8080/",
          "height": 204
        },
        "outputId": "c5ef7b17-f4e3-4013-8d4f-8e3819bd29ed"
      },
      "source": [
        "dist_freq_quantitativas_personalizadas = pd.DataFrame(\n",
        "    {'Frequência': frequencia, 'Porcentagem (%)': percentual}\n",
        ")\n",
        "dist_freq_quantitativas_personalizadas"
      ],
      "execution_count": 28,
      "outputs": [
        {
          "output_type": "execute_result",
          "data": {
            "text/html": [
              "<div>\n",
              "<style scoped>\n",
              "    .dataframe tbody tr th:only-of-type {\n",
              "        vertical-align: middle;\n",
              "    }\n",
              "\n",
              "    .dataframe tbody tr th {\n",
              "        vertical-align: top;\n",
              "    }\n",
              "\n",
              "    .dataframe thead th {\n",
              "        text-align: right;\n",
              "    }\n",
              "</style>\n",
              "<table border=\"1\" class=\"dataframe\">\n",
              "  <thead>\n",
              "    <tr style=\"text-align: right;\">\n",
              "      <th></th>\n",
              "      <th>Frequência</th>\n",
              "      <th>Porcentagem (%)</th>\n",
              "    </tr>\n",
              "  </thead>\n",
              "  <tbody>\n",
              "    <tr>\n",
              "      <th>E</th>\n",
              "      <td>49755</td>\n",
              "      <td>64.751432</td>\n",
              "    </tr>\n",
              "    <tr>\n",
              "      <th>D</th>\n",
              "      <td>16700</td>\n",
              "      <td>21.733472</td>\n",
              "    </tr>\n",
              "    <tr>\n",
              "      <th>C</th>\n",
              "      <td>7599</td>\n",
              "      <td>9.889381</td>\n",
              "    </tr>\n",
              "    <tr>\n",
              "      <th>B</th>\n",
              "      <td>2178</td>\n",
              "      <td>2.834461</td>\n",
              "    </tr>\n",
              "    <tr>\n",
              "      <th>A</th>\n",
              "      <td>608</td>\n",
              "      <td>0.791255</td>\n",
              "    </tr>\n",
              "  </tbody>\n",
              "</table>\n",
              "</div>"
            ],
            "text/plain": [
              "   Frequência  Porcentagem (%)\n",
              "E       49755        64.751432\n",
              "D       16700        21.733472\n",
              "C        7599         9.889381\n",
              "B        2178         2.834461\n",
              "A         608         0.791255"
            ]
          },
          "metadata": {},
          "execution_count": 28
        }
      ]
    },
    {
      "cell_type": "code",
      "metadata": {
        "id": "uTMEJXUHjQLs",
        "colab": {
          "base_uri": "https://localhost:8080/",
          "height": 204
        },
        "outputId": "8ff3e5e2-4105-4d30-8ddd-77618b5a279f"
      },
      "source": [
        "dist_freq_quantitativas_personalizadas.sort_index(ascending=False)"
      ],
      "execution_count": 29,
      "outputs": [
        {
          "output_type": "execute_result",
          "data": {
            "text/html": [
              "<div>\n",
              "<style scoped>\n",
              "    .dataframe tbody tr th:only-of-type {\n",
              "        vertical-align: middle;\n",
              "    }\n",
              "\n",
              "    .dataframe tbody tr th {\n",
              "        vertical-align: top;\n",
              "    }\n",
              "\n",
              "    .dataframe thead th {\n",
              "        text-align: right;\n",
              "    }\n",
              "</style>\n",
              "<table border=\"1\" class=\"dataframe\">\n",
              "  <thead>\n",
              "    <tr style=\"text-align: right;\">\n",
              "      <th></th>\n",
              "      <th>Frequência</th>\n",
              "      <th>Porcentagem (%)</th>\n",
              "    </tr>\n",
              "  </thead>\n",
              "  <tbody>\n",
              "    <tr>\n",
              "      <th>A</th>\n",
              "      <td>608</td>\n",
              "      <td>0.791255</td>\n",
              "    </tr>\n",
              "    <tr>\n",
              "      <th>B</th>\n",
              "      <td>2178</td>\n",
              "      <td>2.834461</td>\n",
              "    </tr>\n",
              "    <tr>\n",
              "      <th>C</th>\n",
              "      <td>7599</td>\n",
              "      <td>9.889381</td>\n",
              "    </tr>\n",
              "    <tr>\n",
              "      <th>D</th>\n",
              "      <td>16700</td>\n",
              "      <td>21.733472</td>\n",
              "    </tr>\n",
              "    <tr>\n",
              "      <th>E</th>\n",
              "      <td>49755</td>\n",
              "      <td>64.751432</td>\n",
              "    </tr>\n",
              "  </tbody>\n",
              "</table>\n",
              "</div>"
            ],
            "text/plain": [
              "   Frequência  Porcentagem (%)\n",
              "A         608         0.791255\n",
              "B        2178         2.834461\n",
              "C        7599         9.889381\n",
              "D       16700        21.733472\n",
              "E       49755        64.751432"
            ]
          },
          "metadata": {},
          "execution_count": 29
        }
      ]
    },
    {
      "cell_type": "code",
      "metadata": {
        "colab": {
          "base_uri": "https://localhost:8080/",
          "height": 142
        },
        "id": "FA7lE5MmMqU9",
        "outputId": "4ad80d87-11a2-4e61-cfc3-8afa196e9e43"
      },
      "source": [
        "classes = [dados.Altura.min(), 1.65, 1.75, dados.Altura.max()]\n",
        "labels = ['1 - Baixa', '2 - Média', '3 - Alta']\n",
        "\n",
        "frequencia = pd.value_counts(\n",
        "    pd.cut(\n",
        "        x = dados.Altura,\n",
        "        bins = classes,\n",
        "        labels = labels,\n",
        "        include_lowest = True\n",
        "    )\n",
        ")\n",
        "\n",
        "percentual = pd.value_counts(\n",
        "    pd.cut(\n",
        "        x = dados.Altura,\n",
        "        bins = classes,\n",
        "        labels = labels,\n",
        "        include_lowest = True\n",
        "    ), normalize = True\n",
        ") * 100\n",
        "\n",
        "dist_freq_altura = pd.DataFrame(\n",
        "    {'Frequência': frequencia, 'Porcentagem (%)': percentual}\n",
        ")\n",
        "\n",
        "dist_freq_altura.rename_axis('Estaturas', axis= 'columns', inplace = True)\n",
        "\n",
        "dist_freq_altura.sort_index(ascending = True, inplace = True)\n",
        "\n",
        "dist_freq_altura"
      ],
      "execution_count": 30,
      "outputs": [
        {
          "output_type": "execute_result",
          "data": {
            "text/html": [
              "<div>\n",
              "<style scoped>\n",
              "    .dataframe tbody tr th:only-of-type {\n",
              "        vertical-align: middle;\n",
              "    }\n",
              "\n",
              "    .dataframe tbody tr th {\n",
              "        vertical-align: top;\n",
              "    }\n",
              "\n",
              "    .dataframe thead th {\n",
              "        text-align: right;\n",
              "    }\n",
              "</style>\n",
              "<table border=\"1\" class=\"dataframe\">\n",
              "  <thead>\n",
              "    <tr style=\"text-align: right;\">\n",
              "      <th>Estaturas</th>\n",
              "      <th>Frequência</th>\n",
              "      <th>Porcentagem (%)</th>\n",
              "    </tr>\n",
              "  </thead>\n",
              "  <tbody>\n",
              "    <tr>\n",
              "      <th>1 - Baixa</th>\n",
              "      <td>20529</td>\n",
              "      <td>26.716554</td>\n",
              "    </tr>\n",
              "    <tr>\n",
              "      <th>2 - Média</th>\n",
              "      <td>36162</td>\n",
              "      <td>47.061426</td>\n",
              "    </tr>\n",
              "    <tr>\n",
              "      <th>3 - Alta</th>\n",
              "      <td>20149</td>\n",
              "      <td>26.222020</td>\n",
              "    </tr>\n",
              "  </tbody>\n",
              "</table>\n",
              "</div>"
            ],
            "text/plain": [
              "Estaturas  Frequência  Porcentagem (%)\n",
              "1 - Baixa       20529        26.716554\n",
              "2 - Média       36162        47.061426\n",
              "3 - Alta        20149        26.222020"
            ]
          },
          "metadata": {},
          "execution_count": 30
        }
      ]
    },
    {
      "cell_type": "markdown",
      "metadata": {
        "id": "ViJYvvjujQLu"
      },
      "source": [
        "## <font color=green>2.3 Distribuição de frequências para variáveis quantitativas (classes de amplitude fixa)</font>\n",
        "***"
      ]
    },
    {
      "cell_type": "markdown",
      "metadata": {
        "id": "02ve2BVojQLv"
      },
      "source": [
        "### Importando bibliotecas\n",
        "\n",
        "http://www.numpy.org/"
      ]
    },
    {
      "cell_type": "code",
      "metadata": {
        "id": "hSIsHKuJjQLw"
      },
      "source": [
        "import numpy as np"
      ],
      "execution_count": 31,
      "outputs": []
    },
    {
      "cell_type": "markdown",
      "metadata": {
        "id": "s9UGNaMzjQLy"
      },
      "source": [
        "### Passo 1 - Definindo o número de classes"
      ]
    },
    {
      "cell_type": "markdown",
      "metadata": {
        "id": "p268tvNHjQLy"
      },
      "source": [
        "#### Regra de Sturges\n",
        "\n",
        "# $$k = 1 + \\frac {10}{3}\\log_{10}n$$"
      ]
    },
    {
      "cell_type": "code",
      "metadata": {
        "id": "wgLH6gGqjQLz",
        "colab": {
          "base_uri": "https://localhost:8080/"
        },
        "outputId": "41e0b143-0912-47f1-99b9-ca1b454d48cc"
      },
      "source": [
        "n = dados.shape[0]\n",
        "n"
      ],
      "execution_count": 32,
      "outputs": [
        {
          "output_type": "execute_result",
          "data": {
            "text/plain": [
              "76840"
            ]
          },
          "metadata": {},
          "execution_count": 32
        }
      ]
    },
    {
      "cell_type": "code",
      "metadata": {
        "id": "uTuVep-8jQL0"
      },
      "source": [
        "k = 1 + (10 / 3) * np.log10( n )"
      ],
      "execution_count": 33,
      "outputs": []
    },
    {
      "cell_type": "code",
      "metadata": {
        "id": "988IDFNOjQL2",
        "colab": {
          "base_uri": "https://localhost:8080/"
        },
        "outputId": "2ee72d6c-08ae-40f4-b552-ef046bb64412"
      },
      "source": [
        "k"
      ],
      "execution_count": 34,
      "outputs": [
        {
          "output_type": "execute_result",
          "data": {
            "text/plain": [
              "17.285291187298853"
            ]
          },
          "metadata": {},
          "execution_count": 34
        }
      ]
    },
    {
      "cell_type": "code",
      "metadata": {
        "id": "B_Y66_KFjQL4",
        "colab": {
          "base_uri": "https://localhost:8080/"
        },
        "outputId": "7c4aa4b0-ce37-47e4-df41-9b9dd2d8d292"
      },
      "source": [
        "k = int(k.round(0))\n",
        "k"
      ],
      "execution_count": 35,
      "outputs": [
        {
          "output_type": "execute_result",
          "data": {
            "text/plain": [
              "17"
            ]
          },
          "metadata": {},
          "execution_count": 35
        }
      ]
    },
    {
      "cell_type": "markdown",
      "metadata": {
        "id": "5eO-RhaljQL6"
      },
      "source": [
        "### Passo 2 - Criar a tabela de frequências"
      ]
    },
    {
      "cell_type": "code",
      "metadata": {
        "id": "sVVA-jvDjQL7",
        "colab": {
          "base_uri": "https://localhost:8080/"
        },
        "outputId": "ea993909-1998-41d6-fa0b-255b6b712369"
      },
      "source": [
        "frequencia = pd.value_counts(\n",
        "    pd.cut(\n",
        "        x = dados.Renda,\n",
        "        bins = 17,\n",
        "        include_lowest = True\n",
        "    ),\n",
        "    sort = False\n",
        ")\n",
        "frequencia"
      ],
      "execution_count": 36,
      "outputs": [
        {
          "output_type": "execute_result",
          "data": {
            "text/plain": [
              "(-200.001, 11764.706]       75594\n",
              "(11764.706, 23529.412]       1022\n",
              "(23529.412, 35294.118]        169\n",
              "(35294.118, 47058.824]         19\n",
              "(47058.824, 58823.529]         16\n",
              "(58823.529, 70588.235]          5\n",
              "(70588.235, 82352.941]          4\n",
              "(82352.941, 94117.647]          1\n",
              "(94117.647, 105882.353]         6\n",
              "(105882.353, 117647.059]        0\n",
              "(117647.059, 129411.765]        1\n",
              "(129411.765, 141176.471]        0\n",
              "(141176.471, 152941.176]        0\n",
              "(152941.176, 164705.882]        0\n",
              "(164705.882, 176470.588]        0\n",
              "(176470.588, 188235.294]        0\n",
              "(188235.294, 200000.0]          3\n",
              "Name: Renda, dtype: int64"
            ]
          },
          "metadata": {},
          "execution_count": 36
        }
      ]
    },
    {
      "cell_type": "code",
      "metadata": {
        "id": "-ylxSip1jQL9",
        "colab": {
          "base_uri": "https://localhost:8080/"
        },
        "outputId": "3d747ef3-799a-43d9-cfd4-3c29d2fb7800"
      },
      "source": [
        "percentual = pd.value_counts(\n",
        "    pd.cut(\n",
        "        x = dados.Renda,\n",
        "        bins = 17,\n",
        "        include_lowest = True\n",
        "    ),\n",
        "    sort = False,\n",
        "    normalize = True\n",
        ")\n",
        "percentual"
      ],
      "execution_count": 37,
      "outputs": [
        {
          "output_type": "execute_result",
          "data": {
            "text/plain": [
              "(-200.001, 11764.706]       0.983784\n",
              "(11764.706, 23529.412]      0.013300\n",
              "(23529.412, 35294.118]      0.002199\n",
              "(35294.118, 47058.824]      0.000247\n",
              "(47058.824, 58823.529]      0.000208\n",
              "(58823.529, 70588.235]      0.000065\n",
              "(70588.235, 82352.941]      0.000052\n",
              "(82352.941, 94117.647]      0.000013\n",
              "(94117.647, 105882.353]     0.000078\n",
              "(105882.353, 117647.059]    0.000000\n",
              "(117647.059, 129411.765]    0.000013\n",
              "(129411.765, 141176.471]    0.000000\n",
              "(141176.471, 152941.176]    0.000000\n",
              "(152941.176, 164705.882]    0.000000\n",
              "(164705.882, 176470.588]    0.000000\n",
              "(176470.588, 188235.294]    0.000000\n",
              "(188235.294, 200000.0]      0.000039\n",
              "Name: Renda, dtype: float64"
            ]
          },
          "metadata": {},
          "execution_count": 37
        }
      ]
    },
    {
      "cell_type": "code",
      "metadata": {
        "id": "n9kkJ0WTjQL_",
        "colab": {
          "base_uri": "https://localhost:8080/",
          "height": 576
        },
        "outputId": "b3af3956-753b-423c-9bca-93938d1a6954"
      },
      "source": [
        "dist_freq_quantitativas_amplitude_fixa = pd.DataFrame(\n",
        "    {'Frequência': frequencia, 'Porcentagem (%)': percentual}\n",
        ")\n",
        "dist_freq_quantitativas_amplitude_fixa"
      ],
      "execution_count": 38,
      "outputs": [
        {
          "output_type": "execute_result",
          "data": {
            "text/html": [
              "<div>\n",
              "<style scoped>\n",
              "    .dataframe tbody tr th:only-of-type {\n",
              "        vertical-align: middle;\n",
              "    }\n",
              "\n",
              "    .dataframe tbody tr th {\n",
              "        vertical-align: top;\n",
              "    }\n",
              "\n",
              "    .dataframe thead th {\n",
              "        text-align: right;\n",
              "    }\n",
              "</style>\n",
              "<table border=\"1\" class=\"dataframe\">\n",
              "  <thead>\n",
              "    <tr style=\"text-align: right;\">\n",
              "      <th></th>\n",
              "      <th>Frequência</th>\n",
              "      <th>Porcentagem (%)</th>\n",
              "    </tr>\n",
              "  </thead>\n",
              "  <tbody>\n",
              "    <tr>\n",
              "      <th>(-200.001, 11764.706]</th>\n",
              "      <td>75594</td>\n",
              "      <td>0.983784</td>\n",
              "    </tr>\n",
              "    <tr>\n",
              "      <th>(11764.706, 23529.412]</th>\n",
              "      <td>1022</td>\n",
              "      <td>0.013300</td>\n",
              "    </tr>\n",
              "    <tr>\n",
              "      <th>(23529.412, 35294.118]</th>\n",
              "      <td>169</td>\n",
              "      <td>0.002199</td>\n",
              "    </tr>\n",
              "    <tr>\n",
              "      <th>(35294.118, 47058.824]</th>\n",
              "      <td>19</td>\n",
              "      <td>0.000247</td>\n",
              "    </tr>\n",
              "    <tr>\n",
              "      <th>(47058.824, 58823.529]</th>\n",
              "      <td>16</td>\n",
              "      <td>0.000208</td>\n",
              "    </tr>\n",
              "    <tr>\n",
              "      <th>(58823.529, 70588.235]</th>\n",
              "      <td>5</td>\n",
              "      <td>0.000065</td>\n",
              "    </tr>\n",
              "    <tr>\n",
              "      <th>(70588.235, 82352.941]</th>\n",
              "      <td>4</td>\n",
              "      <td>0.000052</td>\n",
              "    </tr>\n",
              "    <tr>\n",
              "      <th>(82352.941, 94117.647]</th>\n",
              "      <td>1</td>\n",
              "      <td>0.000013</td>\n",
              "    </tr>\n",
              "    <tr>\n",
              "      <th>(94117.647, 105882.353]</th>\n",
              "      <td>6</td>\n",
              "      <td>0.000078</td>\n",
              "    </tr>\n",
              "    <tr>\n",
              "      <th>(105882.353, 117647.059]</th>\n",
              "      <td>0</td>\n",
              "      <td>0.000000</td>\n",
              "    </tr>\n",
              "    <tr>\n",
              "      <th>(117647.059, 129411.765]</th>\n",
              "      <td>1</td>\n",
              "      <td>0.000013</td>\n",
              "    </tr>\n",
              "    <tr>\n",
              "      <th>(129411.765, 141176.471]</th>\n",
              "      <td>0</td>\n",
              "      <td>0.000000</td>\n",
              "    </tr>\n",
              "    <tr>\n",
              "      <th>(141176.471, 152941.176]</th>\n",
              "      <td>0</td>\n",
              "      <td>0.000000</td>\n",
              "    </tr>\n",
              "    <tr>\n",
              "      <th>(152941.176, 164705.882]</th>\n",
              "      <td>0</td>\n",
              "      <td>0.000000</td>\n",
              "    </tr>\n",
              "    <tr>\n",
              "      <th>(164705.882, 176470.588]</th>\n",
              "      <td>0</td>\n",
              "      <td>0.000000</td>\n",
              "    </tr>\n",
              "    <tr>\n",
              "      <th>(176470.588, 188235.294]</th>\n",
              "      <td>0</td>\n",
              "      <td>0.000000</td>\n",
              "    </tr>\n",
              "    <tr>\n",
              "      <th>(188235.294, 200000.0]</th>\n",
              "      <td>3</td>\n",
              "      <td>0.000039</td>\n",
              "    </tr>\n",
              "  </tbody>\n",
              "</table>\n",
              "</div>"
            ],
            "text/plain": [
              "                          Frequência  Porcentagem (%)\n",
              "(-200.001, 11764.706]          75594         0.983784\n",
              "(11764.706, 23529.412]          1022         0.013300\n",
              "(23529.412, 35294.118]           169         0.002199\n",
              "(35294.118, 47058.824]            19         0.000247\n",
              "(47058.824, 58823.529]            16         0.000208\n",
              "(58823.529, 70588.235]             5         0.000065\n",
              "(70588.235, 82352.941]             4         0.000052\n",
              "(82352.941, 94117.647]             1         0.000013\n",
              "(94117.647, 105882.353]            6         0.000078\n",
              "(105882.353, 117647.059]           0         0.000000\n",
              "(117647.059, 129411.765]           1         0.000013\n",
              "(129411.765, 141176.471]           0         0.000000\n",
              "(141176.471, 152941.176]           0         0.000000\n",
              "(152941.176, 164705.882]           0         0.000000\n",
              "(164705.882, 176470.588]           0         0.000000\n",
              "(176470.588, 188235.294]           0         0.000000\n",
              "(188235.294, 200000.0]             3         0.000039"
            ]
          },
          "metadata": {},
          "execution_count": 38
        }
      ]
    },
    {
      "cell_type": "markdown",
      "metadata": {
        "id": "Js9iLwNkjQME"
      },
      "source": [
        "## <font color=green>2.4 Histograma</font>\n",
        "***\n",
        "\n",
        "O <b>HISTOGRAMA</b> é a representação gráfica de uma distribuição de frequências. É uma gráfico formado por um conjunto de retângulos colocados lado a lado, onde a área de cada retângulo é proporcional à frequência da classe que ele representa."
      ]
    },
    {
      "cell_type": "markdown",
      "metadata": {
        "id": "VzZEXDKX3PUH"
      },
      "source": [
        "### Importando a biblioteca\n",
        "\n",
        "https://seaborn.pydata.org/"
      ]
    },
    {
      "cell_type": "code",
      "metadata": {
        "id": "PYRaBCnxjQME"
      },
      "source": [
        "import seaborn as sns\n",
        "sns.set()"
      ],
      "execution_count": 43,
      "outputs": []
    },
    {
      "cell_type": "code",
      "metadata": {
        "id": "GAX3aCa6jQMG",
        "colab": {
          "base_uri": "https://localhost:8080/",
          "height": 432
        },
        "outputId": "21c29175-3fb2-4739-d5f7-6d3c486f2dc3"
      },
      "source": [
        "# ax = sns.distplot(dados.Altura, kde = False) ==> distplot está depreciado, usar displot ou histplot\n",
        "ax = sns.histplot(dados.Altura, kde = False)\n",
        "\n",
        "ax.figure.set_size_inches(12, 6)\n",
        "ax.set_title('Distribuição de Frequências - Altura', fontsize=18)\n",
        "ax.set_xlabel('Metros', fontsize=14)\n",
        "ax"
      ],
      "execution_count": 44,
      "outputs": [
        {
          "output_type": "execute_result",
          "data": {
            "text/plain": [
              "<matplotlib.axes._subplots.AxesSubplot at 0x7ff92a61acd0>"
            ]
          },
          "metadata": {},
          "execution_count": 44
        },
        {
          "output_type": "display_data",
          "data": {
            "image/png": "[encoded data removed]",
            "text/plain": [
              "<Figure size 864x432 with 1 Axes>"
            ]
          },
          "metadata": {}
        }
      ]
    },
    {
      "cell_type": "code",
      "metadata": {
        "id": "wiQPnuMojQMJ",
        "colab": {
          "base_uri": "https://localhost:8080/",
          "height": 432
        },
        "outputId": "7899d3dc-311e-4659-c6b7-9aa501fc387e"
      },
      "source": [
        "ax = sns.histplot(dados.Altura, kde=True)\n",
        "\n",
        "ax.figure.set_size_inches(12, 6)\n",
        "ax.set_title('Distribuição de Frequências - Altura - KDE', fontsize=18)\n",
        "ax.set_xlabel('Metros', fontsize=14)\n",
        "ax"
      ],
      "execution_count": 45,
      "outputs": [
        {
          "output_type": "execute_result",
          "data": {
            "text/plain": [
              "<matplotlib.axes._subplots.AxesSubplot at 0x7ff92a438cd0>"
            ]
          },
          "metadata": {},
          "execution_count": 45
        },
        {
          "output_type": "display_data",
          "data": {
            "image/png": "[encoded data removed]",
            "text/plain": [
              "<Figure size 864x432 with 1 Axes>"
            ]
          },
          "metadata": {}
        }
      ]
    },
    {
      "cell_type": "code",
      "metadata": {
        "id": "3fySBW7qjQMK",
        "colab": {
          "base_uri": "https://localhost:8080/",
          "height": 394
        },
        "outputId": "6ce63ed2-ec7e-465a-8928-4631c9cbdda9"
      },
      "source": [
        "dados.Altura.hist(bins=50, figsize=(12,6))"
      ],
      "execution_count": 48,
      "outputs": [
        {
          "output_type": "execute_result",
          "data": {
            "text/plain": [
              "<matplotlib.axes._subplots.AxesSubplot at 0x7ff92a0a0910>"
            ]
          },
          "metadata": {},
          "execution_count": 48
        },
        {
          "output_type": "display_data",
          "data": {
            "image/png": "[encoded data removed]",
            "text/plain": [
              "<Figure size 864x432 with 1 Axes>"
            ]
          },
          "metadata": {}
        }
      ]
    },
    {
      "cell_type": "code",
      "metadata": {
        "id": "0HcLhLYtjQMM",
        "colab": {
          "base_uri": "https://localhost:8080/",
          "height": 204
        },
        "outputId": "8a4513f1-8af2-4175-ef22-de3d782e68c5"
      },
      "source": [
        "dist_freq_quantitativas_personalizadas"
      ],
      "execution_count": 50,
      "outputs": [
        {
          "output_type": "execute_result",
          "data": {
            "text/html": [
              "<div>\n",
              "<style scoped>\n",
              "    .dataframe tbody tr th:only-of-type {\n",
              "        vertical-align: middle;\n",
              "    }\n",
              "\n",
              "    .dataframe tbody tr th {\n",
              "        vertical-align: top;\n",
              "    }\n",
              "\n",
              "    .dataframe thead th {\n",
              "        text-align: right;\n",
              "    }\n",
              "</style>\n",
              "<table border=\"1\" class=\"dataframe\">\n",
              "  <thead>\n",
              "    <tr style=\"text-align: right;\">\n",
              "      <th></th>\n",
              "      <th>Frequência</th>\n",
              "      <th>Porcentagem (%)</th>\n",
              "    </tr>\n",
              "  </thead>\n",
              "  <tbody>\n",
              "    <tr>\n",
              "      <th>E</th>\n",
              "      <td>49755</td>\n",
              "      <td>64.751432</td>\n",
              "    </tr>\n",
              "    <tr>\n",
              "      <th>D</th>\n",
              "      <td>16700</td>\n",
              "      <td>21.733472</td>\n",
              "    </tr>\n",
              "    <tr>\n",
              "      <th>C</th>\n",
              "      <td>7599</td>\n",
              "      <td>9.889381</td>\n",
              "    </tr>\n",
              "    <tr>\n",
              "      <th>B</th>\n",
              "      <td>2178</td>\n",
              "      <td>2.834461</td>\n",
              "    </tr>\n",
              "    <tr>\n",
              "      <th>A</th>\n",
              "      <td>608</td>\n",
              "      <td>0.791255</td>\n",
              "    </tr>\n",
              "  </tbody>\n",
              "</table>\n",
              "</div>"
            ],
            "text/plain": [
              "   Frequência  Porcentagem (%)\n",
              "E       49755        64.751432\n",
              "D       16700        21.733472\n",
              "C        7599         9.889381\n",
              "B        2178         2.834461\n",
              "A         608         0.791255"
            ]
          },
          "metadata": {},
          "execution_count": 50
        }
      ]
    },
    {
      "cell_type": "code",
      "metadata": {
        "id": "IQYnbxoS-kjQ",
        "colab": {
          "base_uri": "https://localhost:8080/",
          "height": 392
        },
        "outputId": "16b22c30-6232-483b-fb17-ab31be017626"
      },
      "source": [
        "dist_freq_quantitativas_personalizadas['Frequência'].plot.bar(width=1, color='blue', alpha=0.2, figsize=(12,6))"
      ],
      "execution_count": 51,
      "outputs": [
        {
          "output_type": "execute_result",
          "data": {
            "text/plain": [
              "<matplotlib.axes._subplots.AxesSubplot at 0x7ff929f35190>"
            ]
          },
          "metadata": {},
          "execution_count": 51
        },
        {
          "output_type": "display_data",
          "data": {
            "image/png": "[encoded data removed]",
            "text/plain": [
              "<Figure size 864x432 with 1 Axes>"
            ]
          },
          "metadata": {}
        }
      ]
    },
    {
      "cell_type": "markdown",
      "metadata": {
        "id": "DCrXx_vsU1fG"
      },
      "source": [
        "\n",
        "\n",
        "---\n",
        "\n",
        "Nesta aula, aprendemos:\n",
        "\n",
        "* A criar distribuições de frequências (tabelas de frequências) com a função **value_counts()** do *pandas*.\n",
        "* A criar distribuições de frequências, com o cruzamento de duas variáveis, utilizando a função **crosstab()** do *pandas*.\n",
        "* A criar distribuições de frequências, com classes personalizadas, utilizando as funções **value_counts()** e **cut()** conjuntamente.\n",
        "* A utilizar a *regra de Sturges* para obter um número de classes ótimo para determinado tamanho de amostra.\n",
        "* A plotar o *histograma*, que é a representação gráfica de uma distribuição de frequências.\n",
        "\n",
        "---\n",
        "\n"
      ]
    },
    {
      "cell_type": "markdown",
      "metadata": {
        "id": "uIb17Es3jQMP"
      },
      "source": [
        "# <font color=green>3 MEDIDAS DE TENDÊNCIA CENTRAL</font>\n",
        "***"
      ]
    },
    {
      "cell_type": "markdown",
      "metadata": {
        "id": "Wrya4suEX7H-"
      },
      "source": [
        "## DataFrame de exemplo"
      ]
    },
    {
      "cell_type": "code",
      "metadata": {
        "id": "jj7a21flX7H_"
      },
      "source": [
        ""
      ],
      "execution_count": null,
      "outputs": []
    },
    {
      "cell_type": "markdown",
      "metadata": {
        "id": "kcHJFW-YjQMP"
      },
      "source": [
        "## <font color=green>3.1 Média aritmética</font>\n",
        "***\n",
        "\n",
        "É representada por $\\mu$ quando se refere à população e por $\\bar{X}$ quando se refere à amostra\n",
        "\n",
        "# $$\\mu = \\frac 1n\\sum_{i=1}^{n}X_i$$\n",
        "\n",
        "onde \n",
        "\n",
        "$n$ = número de observações (registros)\n",
        "\n",
        "$X_i$ = valor da i-ésima observação (registro)"
      ]
    },
    {
      "cell_type": "code",
      "metadata": {
        "id": "QW4JPcBmX7IA"
      },
      "source": [
        ""
      ],
      "execution_count": null,
      "outputs": []
    },
    {
      "cell_type": "code",
      "metadata": {
        "id": "LuT8WNy5X7IB"
      },
      "source": [
        ""
      ],
      "execution_count": null,
      "outputs": []
    },
    {
      "cell_type": "code",
      "metadata": {
        "id": "BRMZcmMEjQMQ"
      },
      "source": [
        ""
      ],
      "execution_count": null,
      "outputs": []
    },
    {
      "cell_type": "code",
      "metadata": {
        "id": "CGgJbsK0HBQc"
      },
      "source": [
        ""
      ],
      "execution_count": null,
      "outputs": []
    },
    {
      "cell_type": "markdown",
      "metadata": {
        "id": "9geu3UcKjQMS"
      },
      "source": [
        "## <font color=green>3.2 Mediana</font>\n",
        "***\n",
        "\n",
        "Para obtermos a mediana de uma conjunto de dados devemos proceder da seguinte maneira:\n",
        "1. Ordenar o conjunto de dados;\n",
        "2. Identificar o número de observações (registros) do conjunto de dados ($n$);\n",
        "3. Identicar o elemento mediano:\n",
        "\n",
        "> Quando $n$ for ímpar, a posição do elemento mediano será obtida da seguinte forma:\n",
        "\n",
        "\n",
        "# $$Elemento_{Md} = \\frac{n+1}2$$\n",
        "\n",
        "> Quando $n$ for par, a posição do elemento mediano será obtida da seguinte forma:\n",
        "\n",
        "\n",
        "# $$Elemento_{Md} = \\frac{n}2$$\n",
        "\n",
        "4. Obter a mediana:\n",
        "\n",
        "> Quando $n$ for ímpar:\n",
        "\n",
        "\n",
        "# $$Md = X_{Elemento_{Md}}$$\n",
        "\n",
        "> Quando $n$ for par:\n",
        "\n",
        "\n",
        "# $$Md = \\frac{X_{Elemento_{Md}} + X_{Elemento_{Md}+1}}2$$\n",
        "***"
      ]
    },
    {
      "cell_type": "markdown",
      "metadata": {
        "id": "e0IuYdJFjQMT"
      },
      "source": [
        "### Exemplo 1 - n ímpar\n",
        "\n",
        "<img src='https://caelum-online-public.s3.amazonaws.com/1177-estatistica-parte1/01/img002.png' width='40%' style=\"float:left\">"
      ]
    },
    {
      "cell_type": "code",
      "metadata": {
        "id": "3dXjdRFlX7IH"
      },
      "source": [
        ""
      ],
      "execution_count": null,
      "outputs": []
    },
    {
      "cell_type": "code",
      "metadata": {
        "id": "cU91DJ-yjQMV"
      },
      "source": [
        ""
      ],
      "execution_count": null,
      "outputs": []
    },
    {
      "cell_type": "code",
      "metadata": {
        "id": "z9bOnYKf1NOd"
      },
      "source": [
        ""
      ],
      "execution_count": null,
      "outputs": []
    },
    {
      "cell_type": "code",
      "metadata": {
        "id": "u3nfPEFjjQMW"
      },
      "source": [
        ""
      ],
      "execution_count": null,
      "outputs": []
    },
    {
      "cell_type": "code",
      "metadata": {
        "id": "trC12MHxjQMY"
      },
      "source": [
        ""
      ],
      "execution_count": null,
      "outputs": []
    },
    {
      "cell_type": "code",
      "metadata": {
        "id": "NKccffcLjQMZ"
      },
      "source": [
        ""
      ],
      "execution_count": null,
      "outputs": []
    },
    {
      "cell_type": "code",
      "metadata": {
        "id": "ody5mfXLjQMb"
      },
      "source": [
        ""
      ],
      "execution_count": null,
      "outputs": []
    },
    {
      "cell_type": "markdown",
      "metadata": {
        "id": "hQHyjfLkjQMe"
      },
      "source": [
        "### Exemplo 2 - n par\n",
        "\n",
        "<img src='https://caelum-online-public.s3.amazonaws.com/1177-estatistica-parte1/01/img003.png' width='50%' style=\"float:left\">"
      ]
    },
    {
      "cell_type": "code",
      "metadata": {
        "id": "Jkx1WZenjQMe"
      },
      "source": [
        ""
      ],
      "execution_count": null,
      "outputs": []
    },
    {
      "cell_type": "code",
      "metadata": {
        "id": "D1LUpvZkYsHq"
      },
      "source": [
        ""
      ],
      "execution_count": null,
      "outputs": []
    },
    {
      "cell_type": "code",
      "metadata": {
        "id": "PuiScCf0-vh9"
      },
      "source": [
        ""
      ],
      "execution_count": null,
      "outputs": []
    },
    {
      "cell_type": "code",
      "metadata": {
        "id": "6wB1UztBjQMf"
      },
      "source": [
        ""
      ],
      "execution_count": null,
      "outputs": []
    },
    {
      "cell_type": "code",
      "metadata": {
        "id": "tEBVXl7CjQMh"
      },
      "source": [
        ""
      ],
      "execution_count": null,
      "outputs": []
    },
    {
      "cell_type": "code",
      "metadata": {
        "id": "N-jSUjZSjQMi"
      },
      "source": [
        ""
      ],
      "execution_count": null,
      "outputs": []
    },
    {
      "cell_type": "code",
      "metadata": {
        "id": "IevBBtrRjQMj"
      },
      "source": [
        ""
      ],
      "execution_count": null,
      "outputs": []
    },
    {
      "cell_type": "markdown",
      "metadata": {
        "id": "nK27TxrkjQMl"
      },
      "source": [
        "### Obtendo a mediana em nosso dataset"
      ]
    },
    {
      "cell_type": "code",
      "metadata": {
        "id": "dJznpnjUjQMl"
      },
      "source": [
        ""
      ],
      "execution_count": null,
      "outputs": []
    },
    {
      "cell_type": "code",
      "metadata": {
        "id": "W4a5PVYdjQMm"
      },
      "source": [
        ""
      ],
      "execution_count": null,
      "outputs": []
    },
    {
      "cell_type": "markdown",
      "metadata": {
        "id": "CmCu6BXQjQMo"
      },
      "source": [
        "## <font color=green>3.3 Moda</font>\n",
        "***\n",
        "\n",
        "Pode-se definir a moda como sendo o valor mais frequente de um conjunto de dados. A moda é bastante utilizada para dados qualitativos."
      ]
    },
    {
      "cell_type": "code",
      "metadata": {
        "id": "BHibMzw8X7Id"
      },
      "source": [
        ""
      ],
      "execution_count": null,
      "outputs": []
    },
    {
      "cell_type": "code",
      "metadata": {
        "id": "xICDpQguX7Ik"
      },
      "source": [
        ""
      ],
      "execution_count": null,
      "outputs": []
    },
    {
      "cell_type": "code",
      "metadata": {
        "id": "x9lIRFESX7Il"
      },
      "source": [
        ""
      ],
      "execution_count": null,
      "outputs": []
    },
    {
      "cell_type": "code",
      "metadata": {
        "id": "yUP6QFuiX7Io"
      },
      "source": [
        ""
      ],
      "execution_count": null,
      "outputs": []
    },
    {
      "cell_type": "markdown",
      "metadata": {
        "id": "YwhBwz-JjQMr"
      },
      "source": [
        "### Obtendo a moda em nosso dataset"
      ]
    },
    {
      "cell_type": "code",
      "metadata": {
        "id": "mC8vvYk-jQMr"
      },
      "source": [
        ""
      ],
      "execution_count": null,
      "outputs": []
    },
    {
      "cell_type": "code",
      "metadata": {
        "id": "Sdosy_vSX7Iw"
      },
      "source": [
        ""
      ],
      "execution_count": null,
      "outputs": []
    },
    {
      "cell_type": "markdown",
      "metadata": {
        "id": "_-0gjQWFjQMu"
      },
      "source": [
        "## <font color=green>3.4 Relação entre média, mediana e moda</font>\n",
        "***"
      ]
    },
    {
      "cell_type": "markdown",
      "metadata": {
        "id": "0S7pa_jLjQMu"
      },
      "source": [
        "<img src='https://caelum-online-public.s3.amazonaws.com/1177-estatistica-parte1/01/img004.png' width='80%'>"
      ]
    },
    {
      "cell_type": "markdown",
      "metadata": {
        "id": "b7ZchyFsjQMu"
      },
      "source": [
        "### Avaliando a variável RENDA"
      ]
    },
    {
      "cell_type": "code",
      "metadata": {
        "id": "d8WQQ0PdjQMv"
      },
      "source": [
        ""
      ],
      "execution_count": null,
      "outputs": []
    },
    {
      "cell_type": "code",
      "metadata": {
        "id": "krws6f_SjQMw"
      },
      "source": [
        ""
      ],
      "execution_count": null,
      "outputs": []
    },
    {
      "cell_type": "code",
      "metadata": {
        "id": "_Y7KpB25jQMx"
      },
      "source": [
        ""
      ],
      "execution_count": null,
      "outputs": []
    },
    {
      "cell_type": "code",
      "metadata": {
        "id": "gQ0e56VajQMy"
      },
      "source": [
        ""
      ],
      "execution_count": null,
      "outputs": []
    },
    {
      "cell_type": "code",
      "metadata": {
        "id": "nX6lnCBujQM0"
      },
      "source": [
        ""
      ],
      "execution_count": null,
      "outputs": []
    },
    {
      "cell_type": "markdown",
      "metadata": {
        "id": "FnLQAxSijQM1"
      },
      "source": [
        "***"
      ]
    },
    {
      "cell_type": "markdown",
      "metadata": {
        "id": "WazchssNjQM1"
      },
      "source": [
        "### Avaliando a variável ALTURA"
      ]
    },
    {
      "cell_type": "code",
      "metadata": {
        "id": "41uJsCk9jQM2"
      },
      "source": [
        ""
      ],
      "execution_count": null,
      "outputs": []
    },
    {
      "cell_type": "code",
      "metadata": {
        "id": "EkgerGuXjQM3"
      },
      "source": [
        ""
      ],
      "execution_count": null,
      "outputs": []
    },
    {
      "cell_type": "code",
      "metadata": {
        "id": "Jj6MFUXbjQM4"
      },
      "source": [
        ""
      ],
      "execution_count": null,
      "outputs": []
    },
    {
      "cell_type": "code",
      "metadata": {
        "id": "84X-3AzvjQM5"
      },
      "source": [
        ""
      ],
      "execution_count": null,
      "outputs": []
    },
    {
      "cell_type": "markdown",
      "metadata": {
        "id": "PJIMB8i8jQM6"
      },
      "source": [
        "***"
      ]
    },
    {
      "cell_type": "markdown",
      "metadata": {
        "id": "eS4I2H7jjQM7"
      },
      "source": [
        "### Avaliando a variável ANOS DE ESTUDO"
      ]
    },
    {
      "cell_type": "code",
      "metadata": {
        "id": "NPCcjXqPjQM8"
      },
      "source": [
        ""
      ],
      "execution_count": null,
      "outputs": []
    },
    {
      "cell_type": "code",
      "metadata": {
        "id": "PjfvPYUajQM9"
      },
      "source": [
        ""
      ],
      "execution_count": null,
      "outputs": []
    },
    {
      "cell_type": "code",
      "metadata": {
        "id": "VF_Bj8x2jQM-"
      },
      "source": [
        ""
      ],
      "execution_count": null,
      "outputs": []
    },
    {
      "cell_type": "code",
      "metadata": {
        "id": "ohqUZ5RsjQNA"
      },
      "source": [
        ""
      ],
      "execution_count": null,
      "outputs": []
    },
    {
      "cell_type": "code",
      "metadata": {
        "id": "AwM8UvApjQNC"
      },
      "source": [
        ""
      ],
      "execution_count": null,
      "outputs": []
    },
    {
      "cell_type": "markdown",
      "metadata": {
        "id": "vcaIo45UjQND"
      },
      "source": [
        "# <font color=green>4 MEDIDAS SEPARATRIZES</font>\n",
        "***"
      ]
    },
    {
      "cell_type": "markdown",
      "metadata": {
        "id": "f4XrApNxjQNE"
      },
      "source": [
        "## <font color=green>4.1 Quartis, decis e percentis</font>\n",
        "***\n",
        "\n",
        "Há uma série de medidas de posição semelhantes na sua concepção à mediana, embora não sejam medidas de tendência central. Como se sabe, a mediana divide a distribuição em duas partes iguais quanto ao número de elementos de cada parte. Já os quartis permitem dividir a distribuição em quatro partes iguais quanto ao número de elementos de cada uma; os decis em dez partes e os centis em cem partes iguais."
      ]
    },
    {
      "cell_type": "code",
      "metadata": {
        "id": "VmbdUO-ujQNE"
      },
      "source": [
        ""
      ],
      "execution_count": null,
      "outputs": []
    },
    {
      "cell_type": "code",
      "metadata": {
        "id": "gyiJDAMbjQNF"
      },
      "source": [
        ""
      ],
      "execution_count": null,
      "outputs": []
    },
    {
      "cell_type": "code",
      "metadata": {
        "id": "EpRKboV5jQNG"
      },
      "source": [
        ""
      ],
      "execution_count": null,
      "outputs": []
    },
    {
      "cell_type": "code",
      "metadata": {
        "id": "LQW--GapjQNI",
        "scrolled": true
      },
      "source": [
        ""
      ],
      "execution_count": null,
      "outputs": []
    },
    {
      "cell_type": "code",
      "metadata": {
        "id": "pO2HCo1WUE5F"
      },
      "source": [
        ""
      ],
      "execution_count": null,
      "outputs": []
    },
    {
      "cell_type": "code",
      "metadata": {
        "id": "GGHVrQA7jQNI"
      },
      "source": [
        ""
      ],
      "execution_count": null,
      "outputs": []
    },
    {
      "cell_type": "markdown",
      "metadata": {
        "id": "6gIeZO_CjQNJ"
      },
      "source": [
        "## <font color=green>4.2 Box-plot</font>\n",
        "***\n",
        "\n",
        "O box plot dá uma idéia da posição, dispersão, assimetria, caudas e dados discrepantes (outliers). A posição central é dada pela mediana e a dispersão por $IIQ$. As posições relativas de $Q1$, $Mediana$ e $Q3$ dão uma noção da simetria da distribuição. Os comprimentos das cauda são dados pelas linhas que vão do retângulo aos valores remotos e pelos valores atípicos."
      ]
    },
    {
      "cell_type": "markdown",
      "metadata": {
        "id": "VeiTE_gvjQNK"
      },
      "source": [
        "<img src='https://caelum-online-public.s3.amazonaws.com/1177-estatistica-parte1/01/img005.png' width='65%'>"
      ]
    },
    {
      "cell_type": "code",
      "metadata": {
        "id": "pBY2EWkzjQNK"
      },
      "source": [
        ""
      ],
      "execution_count": null,
      "outputs": []
    },
    {
      "cell_type": "code",
      "metadata": {
        "id": "AEhX7-ggsuiY"
      },
      "source": [
        ""
      ],
      "execution_count": null,
      "outputs": []
    },
    {
      "cell_type": "code",
      "metadata": {
        "id": "2ZPrRov1suSF"
      },
      "source": [
        ""
      ],
      "execution_count": null,
      "outputs": []
    },
    {
      "cell_type": "code",
      "metadata": {
        "id": "CSwlKUrrsuFi"
      },
      "source": [
        ""
      ],
      "execution_count": null,
      "outputs": []
    },
    {
      "cell_type": "code",
      "metadata": {
        "id": "IDrzBcJ_jQNL"
      },
      "source": [
        ""
      ],
      "execution_count": null,
      "outputs": []
    },
    {
      "cell_type": "code",
      "metadata": {
        "id": "V3I-2KsbjQNM"
      },
      "source": [
        ""
      ],
      "execution_count": null,
      "outputs": []
    },
    {
      "cell_type": "markdown",
      "metadata": {
        "id": "amloMZwVjQNN"
      },
      "source": [
        "<img src='https://caelum-online-public.s3.amazonaws.com/1177-estatistica-parte1/01/img006.png' width='80%'>"
      ]
    },
    {
      "cell_type": "markdown",
      "metadata": {
        "id": "aJ6v_NI9jQNN"
      },
      "source": [
        "# <font color=green>5 MEDIDAS DE DISPERSÃO</font>\n",
        "***\n",
        "\n",
        "Embora as medidas de posição forneçam uma sumarização bastante importante dos dados, elas podem não ser suficientes para caracterizar conjuntos distintos, especialmente quando as observações de determinada distribuição apresentarem dados muito dispersos."
      ]
    },
    {
      "cell_type": "markdown",
      "metadata": {
        "id": "D6xVxAQ7jQNO"
      },
      "source": [
        "## <font color=green>5.1 Desvio médio absoluto</font>\n",
        "***\n",
        "\n",
        "\n",
        "# $$DM = \\frac 1n\\sum_{i=1}^{n}|X_i-\\bar{X}|$$\n"
      ]
    },
    {
      "cell_type": "code",
      "metadata": {
        "id": "0sL31blV7nz3"
      },
      "source": [
        ""
      ],
      "execution_count": null,
      "outputs": []
    },
    {
      "cell_type": "code",
      "metadata": {
        "id": "f3pAri4G7nc4"
      },
      "source": [
        ""
      ],
      "execution_count": null,
      "outputs": []
    },
    {
      "cell_type": "code",
      "metadata": {
        "id": "8_Q2tOTmjQNO"
      },
      "source": [
        ""
      ],
      "execution_count": null,
      "outputs": []
    },
    {
      "cell_type": "code",
      "metadata": {
        "id": "RWo0AhBEjQNP"
      },
      "source": [
        ""
      ],
      "execution_count": null,
      "outputs": []
    },
    {
      "cell_type": "code",
      "metadata": {
        "id": "OiWDTw0ljQNQ"
      },
      "source": [
        ""
      ],
      "execution_count": null,
      "outputs": []
    },
    {
      "cell_type": "code",
      "metadata": {
        "id": "qQbjktz5jQNR"
      },
      "source": [
        ""
      ],
      "execution_count": null,
      "outputs": []
    },
    {
      "cell_type": "code",
      "metadata": {
        "id": "dtIDTt6djQNV"
      },
      "source": [
        ""
      ],
      "execution_count": null,
      "outputs": []
    },
    {
      "cell_type": "code",
      "metadata": {
        "id": "m4buiQWF01xt"
      },
      "source": [
        ""
      ],
      "execution_count": null,
      "outputs": []
    },
    {
      "cell_type": "code",
      "metadata": {
        "id": "1PEJ_LUn01eV"
      },
      "source": [
        ""
      ],
      "execution_count": null,
      "outputs": []
    },
    {
      "cell_type": "markdown",
      "metadata": {
        "id": "jSKfnKwEjQNW"
      },
      "source": [
        "## <font color=green>5.2 Variância</font>\n",
        "***"
      ]
    },
    {
      "cell_type": "markdown",
      "metadata": {
        "id": "tHD3yNqzjQNW"
      },
      "source": [
        "### Variância\n",
        "\n",
        "A variância é construída a partir das diferenças entre cada observação e a média dos dados, ou seja, o desvio em torno da média. No cálculo da variância, os desvios em torno da média são elevados ao quadrado."
      ]
    },
    {
      "cell_type": "markdown",
      "metadata": {
        "id": "WrCn9hw0jQNX"
      },
      "source": [
        "### Variância populacional\n",
        "\n",
        "# $$\\sigma^2 = \\frac 1n\\sum_{i=1}^{n}(X_i-\\mu)^2$$"
      ]
    },
    {
      "cell_type": "markdown",
      "metadata": {
        "id": "jV5mQT_djQNX"
      },
      "source": [
        "### Variância amostral\n",
        "\n",
        "# $$S^2 = \\frac 1{n-1}\\sum_{i=1}^{n}(X_i-\\bar{X})^2$$"
      ]
    },
    {
      "cell_type": "code",
      "metadata": {
        "id": "4tlbCQeujQNZ"
      },
      "source": [
        ""
      ],
      "execution_count": null,
      "outputs": []
    },
    {
      "cell_type": "code",
      "metadata": {
        "id": "oCcAfoIOjQNa"
      },
      "source": [
        ""
      ],
      "execution_count": null,
      "outputs": []
    },
    {
      "cell_type": "code",
      "metadata": {
        "id": "EyrfPHLtjQNb"
      },
      "source": [
        ""
      ],
      "execution_count": null,
      "outputs": []
    },
    {
      "cell_type": "markdown",
      "metadata": {
        "id": "wQl_CsytjQNg"
      },
      "source": [
        "## <font color=green>5.3 Desvio padrão</font>\n",
        "***\n",
        "\n",
        "Uma das restrições da variância é o fato de fornecer medidas em quadrados das unidades originais - a variância de medidas de comprimento, por exemplo, é em unidades de área. Logo, o fato de as unidades serem diferentes dificulta a comparação da dispersão com as variáveis que a definem. Um modo de eliminar essa dificuldade é considerar sua raiz quadrada."
      ]
    },
    {
      "cell_type": "markdown",
      "metadata": {
        "id": "X9w1Iqt3jQNg"
      },
      "source": [
        "### Desvio padrão populacional\n",
        "\n",
        "# $$\\sigma = \\sqrt{\\frac 1n\\sum_{i=1}^{n}(X_i-\\mu)^2} \\Longrightarrow \\sigma = \\sqrt{\\sigma^2}$$"
      ]
    },
    {
      "cell_type": "markdown",
      "metadata": {
        "id": "D3J4MvMpjQNg"
      },
      "source": [
        "### Desvio padrão amostral\n",
        "\n",
        "# $$S = \\sqrt{\\frac 1{n-1}\\sum_{i=1}^{n}(X_i-\\bar{X})^2} \\Longrightarrow S = \\sqrt{S^2}$$"
      ]
    },
    {
      "cell_type": "code",
      "metadata": {
        "id": "2di6iLFaSPda"
      },
      "source": [
        ""
      ],
      "execution_count": null,
      "outputs": []
    },
    {
      "cell_type": "code",
      "metadata": {
        "id": "BMTx9yKHSPON"
      },
      "source": [
        ""
      ],
      "execution_count": null,
      "outputs": []
    },
    {
      "cell_type": "code",
      "metadata": {
        "id": "_PeQtqbdjQNh"
      },
      "source": [
        ""
      ],
      "execution_count": null,
      "outputs": []
    },
    {
      "cell_type": "code",
      "metadata": {
        "id": "5LYOKy25jQNi"
      },
      "source": [
        ""
      ],
      "execution_count": null,
      "outputs": []
    },
    {
      "cell_type": "code",
      "metadata": {
        "id": "FfcyfSkFjQNj"
      },
      "source": [
        ""
      ],
      "execution_count": null,
      "outputs": []
    },
    {
      "cell_type": "code",
      "metadata": {
        "id": "G8vorygCjQNk"
      },
      "source": [
        ""
      ],
      "execution_count": null,
      "outputs": []
    },
    {
      "cell_type": "code",
      "metadata": {
        "id": "01op3BEvjQNl"
      },
      "source": [
        ""
      ],
      "execution_count": null,
      "outputs": []
    },
    {
      "cell_type": "code",
      "metadata": {
        "id": "aiUvZluhUx-0"
      },
      "source": [
        ""
      ],
      "execution_count": null,
      "outputs": []
    }
  ]
}